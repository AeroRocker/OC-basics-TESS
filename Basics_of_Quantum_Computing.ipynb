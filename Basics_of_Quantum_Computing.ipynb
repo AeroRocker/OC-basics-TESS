{
  "cells": [
    {
      "cell_type": "markdown",
      "metadata": {
        "id": "view-in-github",
        "colab_type": "text"
      },
      "source": [
        "<a href=\"https://colab.research.google.com/github/AeroRocker/Task_2/blob/main/Basics_of_Quantum_Computing.ipynb\" target=\"_parent\"><img src=\"https://colab.research.google.com/assets/colab-badge.svg\" alt=\"Open In Colab\"/></a>"
      ]
    },
    {
      "cell_type": "markdown",
      "metadata": {
        "id": "gXXhctqjgXO7"
      },
      "source": [
        "##### Copyright 2022 The Cirq Developers"
      ]
    },
    {
      "cell_type": "code",
      "execution_count": null,
      "metadata": {
        "cellView": "form",
        "id": "z2RJVa8qgXou"
      },
      "outputs": [],
      "source": [
        "#@title Licensed under the Apache License, Version 2.0 (the \"License\");\n",
        "# you may not use this file except in compliance with the License.\n",
        "# You may obtain a copy of the License at\n",
        "#\n",
        "# https://www.apache.org/licenses/LICENSE-2.0\n",
        "#\n",
        "# Unless required by applicable law or agreed to in writing, software\n",
        "# distributed under the License is distributed on an \"AS IS\" BASIS,\n",
        "# WITHOUT WARRANTIES OR CONDITIONS OF ANY KIND, either express or implied.\n",
        "# See the License for the specific language governing permissions and\n",
        "# limitations under the License."
      ]
    },
    {
      "cell_type": "markdown",
      "metadata": {
        "id": "EQvWLKKRgZR9"
      },
      "source": [
        "# Hello Qubit"
      ]
    },
    {
      "cell_type": "markdown",
      "metadata": {
        "id": "EvZ_JecKga2p"
      },
      "source": [
        "<table class=\"tfo-notebook-buttons\" align=\"left\">\n",
        "  <td>\n",
        "    <a target=\"_blank\" href=\"https://quantumai.google/cirq/start\"><img src=\"https://quantumai.google/site-assets/images/buttons/quantumai_logo_1x.png\" />View on QuantumAI</a>\n",
        "  </td>\n",
        "  <td>\n",
        "    <a target=\"_blank\" href=\"https://colab.research.google.com/github/quantumlib/Cirq/blob/master/docs/start.ipynb\"><img src=\"https://quantumai.google/site-assets/images/buttons/colab_logo_1x.png\" />Run in Google Colab</a>\n",
        "  </td>\n",
        "  <td>\n",
        "    <a target=\"_blank\" href=\"https://github.com/quantumlib/Cirq/blob/master/docs/start.ipynb\"><img src=\"https://quantumai.google/site-assets/images/buttons/github_logo_1x.png\" />View source on GitHub</a>\n",
        "  </td>\n",
        "  <td>\n",
        "    <a href=\"https://storage.googleapis.com/tensorflow_docs/Cirq/docs/start.ipynb\"><img src=\"https://quantumai.google/site-assets/images/buttons/download_icon_1x.png\" />Download notebook</a>\n",
        "  </td>\n",
        "</table>"
      ]
    },
    {
      "cell_type": "code",
      "source": [
        "pip install cirq\n"
      ],
      "metadata": {
        "id": "RPQykXdK5KNH",
        "outputId": "c9abd9f1-2188-4c12-e969-4a76d98c3d41",
        "colab": {
          "base_uri": "https://localhost:8080/"
        }
      },
      "execution_count": 2,
      "outputs": [
        {
          "output_type": "stream",
          "name": "stdout",
          "text": [
            "Looking in indexes: https://pypi.org/simple, https://us-python.pkg.dev/colab-wheels/public/simple/\n",
            "Requirement already satisfied: cirq in /usr/local/lib/python3.7/dist-packages (0.15.0)\n",
            "Requirement already satisfied: cirq-web==0.15.0 in /usr/local/lib/python3.7/dist-packages (from cirq) (0.15.0)\n",
            "Requirement already satisfied: cirq-aqt==0.15.0 in /usr/local/lib/python3.7/dist-packages (from cirq) (0.15.0)\n",
            "Requirement already satisfied: cirq-rigetti==0.15.0 in /usr/local/lib/python3.7/dist-packages (from cirq) (0.15.0)\n",
            "Requirement already satisfied: cirq-ionq==0.15.0 in /usr/local/lib/python3.7/dist-packages (from cirq) (0.15.0)\n",
            "Requirement already satisfied: cirq-core==0.15.0 in /usr/local/lib/python3.7/dist-packages (from cirq) (0.15.0)\n",
            "Requirement already satisfied: cirq-google==0.15.0 in /usr/local/lib/python3.7/dist-packages (from cirq) (0.15.0)\n",
            "Requirement already satisfied: cirq-pasqal==0.15.0 in /usr/local/lib/python3.7/dist-packages (from cirq) (0.15.0)\n",
            "Requirement already satisfied: requests~=2.18 in /usr/local/lib/python3.7/dist-packages (from cirq-aqt==0.15.0->cirq) (2.23.0)\n",
            "Requirement already satisfied: pandas in /usr/local/lib/python3.7/dist-packages (from cirq-core==0.15.0->cirq) (1.3.5)\n",
            "Requirement already satisfied: backports.cached-property~=1.0.1 in /usr/local/lib/python3.7/dist-packages (from cirq-core==0.15.0->cirq) (1.0.2)\n",
            "Requirement already satisfied: tqdm in /usr/local/lib/python3.7/dist-packages (from cirq-core==0.15.0->cirq) (4.64.0)\n",
            "Requirement already satisfied: typing-extensions in /usr/local/lib/python3.7/dist-packages (from cirq-core==0.15.0->cirq) (3.10.0.0)\n",
            "Requirement already satisfied: duet~=0.2.6 in /usr/local/lib/python3.7/dist-packages (from cirq-core==0.15.0->cirq) (0.2.7)\n",
            "Requirement already satisfied: matplotlib~=3.0 in /usr/local/lib/python3.7/dist-packages (from cirq-core==0.15.0->cirq) (3.2.2)\n",
            "Requirement already satisfied: networkx~=2.4 in /usr/local/lib/python3.7/dist-packages (from cirq-core==0.15.0->cirq) (2.6.3)\n",
            "Requirement already satisfied: sympy in /usr/local/lib/python3.7/dist-packages (from cirq-core==0.15.0->cirq) (1.7.1)\n",
            "Requirement already satisfied: scipy in /usr/local/lib/python3.7/dist-packages (from cirq-core==0.15.0->cirq) (1.7.3)\n",
            "Requirement already satisfied: numpy~=1.16 in /usr/local/lib/python3.7/dist-packages (from cirq-core==0.15.0->cirq) (1.21.6)\n",
            "Requirement already satisfied: sortedcontainers~=2.0 in /usr/local/lib/python3.7/dist-packages (from cirq-core==0.15.0->cirq) (2.4.0)\n",
            "Requirement already satisfied: google-api-core[grpc]<2.0.0dev,>=1.14.0 in /usr/local/lib/python3.7/dist-packages (from cirq-google==0.15.0->cirq) (1.31.6)\n",
            "Requirement already satisfied: protobuf<4,>=3.13.0 in /usr/local/lib/python3.7/dist-packages (from cirq-google==0.15.0->cirq) (3.20.1)\n",
            "Requirement already satisfied: proto-plus>=1.20.0 in /usr/local/lib/python3.7/dist-packages (from cirq-google==0.15.0->cirq) (1.20.6)\n",
            "Requirement already satisfied: pyjwt~=1.7.1 in /usr/local/lib/python3.7/dist-packages (from cirq-rigetti==0.15.0->cirq) (1.7.1)\n",
            "Requirement already satisfied: certifi~=2021.5.30 in /usr/local/lib/python3.7/dist-packages (from cirq-rigetti==0.15.0->cirq) (2021.5.30)\n",
            "Requirement already satisfied: retrying~=1.3.3 in /usr/local/lib/python3.7/dist-packages (from cirq-rigetti==0.15.0->cirq) (1.3.3)\n",
            "Requirement already satisfied: rfc3986~=1.5.0 in /usr/local/lib/python3.7/dist-packages (from cirq-rigetti==0.15.0->cirq) (1.5.0)\n",
            "Requirement already satisfied: idna~=2.10 in /usr/local/lib/python3.7/dist-packages (from cirq-rigetti==0.15.0->cirq) (2.10)\n",
            "Requirement already satisfied: attrs~=20.3.0 in /usr/local/lib/python3.7/dist-packages (from cirq-rigetti==0.15.0->cirq) (20.3.0)\n",
            "Requirement already satisfied: sniffio~=1.2.0 in /usr/local/lib/python3.7/dist-packages (from cirq-rigetti==0.15.0->cirq) (1.2.0)\n",
            "Requirement already satisfied: python-dateutil~=2.8.1 in /usr/local/lib/python3.7/dist-packages (from cirq-rigetti==0.15.0->cirq) (2.8.2)\n",
            "Requirement already satisfied: httpx~=0.15.5 in /usr/local/lib/python3.7/dist-packages (from cirq-rigetti==0.15.0->cirq) (0.15.5)\n",
            "Requirement already satisfied: pyquil~=3.0.0 in /usr/local/lib/python3.7/dist-packages (from cirq-rigetti==0.15.0->cirq) (3.0.1)\n",
            "Requirement already satisfied: pydantic~=1.8.2 in /usr/local/lib/python3.7/dist-packages (from cirq-rigetti==0.15.0->cirq) (1.8.2)\n",
            "Requirement already satisfied: iso8601~=0.1.14 in /usr/local/lib/python3.7/dist-packages (from cirq-rigetti==0.15.0->cirq) (0.1.16)\n",
            "Requirement already satisfied: rfc3339~=6.2 in /usr/local/lib/python3.7/dist-packages (from cirq-rigetti==0.15.0->cirq) (6.2)\n",
            "Requirement already satisfied: toml~=0.10.2 in /usr/local/lib/python3.7/dist-packages (from cirq-rigetti==0.15.0->cirq) (0.10.2)\n",
            "Requirement already satisfied: httpcore~=0.11.1 in /usr/local/lib/python3.7/dist-packages (from cirq-rigetti==0.15.0->cirq) (0.11.1)\n",
            "Requirement already satisfied: h11~=0.9.0 in /usr/local/lib/python3.7/dist-packages (from cirq-rigetti==0.15.0->cirq) (0.9.0)\n",
            "Requirement already satisfied: six~=1.16.0 in /usr/local/lib/python3.7/dist-packages (from cirq-rigetti==0.15.0->cirq) (1.16.0)\n",
            "Requirement already satisfied: qcs-api-client~=0.8.0 in /usr/local/lib/python3.7/dist-packages (from cirq-rigetti==0.15.0->cirq) (0.8.0)\n",
            "Requirement already satisfied: googleapis-common-protos<2.0dev,>=1.6.0 in /usr/local/lib/python3.7/dist-packages (from google-api-core[grpc]<2.0.0dev,>=1.14.0->cirq-google==0.15.0->cirq) (1.56.2)\n",
            "Requirement already satisfied: google-auth<2.0dev,>=1.25.0 in /usr/local/lib/python3.7/dist-packages (from google-api-core[grpc]<2.0.0dev,>=1.14.0->cirq-google==0.15.0->cirq) (1.35.0)\n",
            "Requirement already satisfied: pytz in /usr/local/lib/python3.7/dist-packages (from google-api-core[grpc]<2.0.0dev,>=1.14.0->cirq-google==0.15.0->cirq) (2022.1)\n",
            "Requirement already satisfied: setuptools>=40.3.0 in /usr/local/lib/python3.7/dist-packages (from google-api-core[grpc]<2.0.0dev,>=1.14.0->cirq-google==0.15.0->cirq) (57.4.0)\n",
            "Requirement already satisfied: packaging>=14.3 in /usr/local/lib/python3.7/dist-packages (from google-api-core[grpc]<2.0.0dev,>=1.14.0->cirq-google==0.15.0->cirq) (21.3)\n",
            "Requirement already satisfied: grpcio<2.0dev,>=1.29.0 in /usr/local/lib/python3.7/dist-packages (from google-api-core[grpc]<2.0.0dev,>=1.14.0->cirq-google==0.15.0->cirq) (1.46.3)\n",
            "Requirement already satisfied: rsa<5,>=3.1.4 in /usr/local/lib/python3.7/dist-packages (from google-auth<2.0dev,>=1.25.0->google-api-core[grpc]<2.0.0dev,>=1.14.0->cirq-google==0.15.0->cirq) (4.8)\n",
            "Requirement already satisfied: cachetools<5.0,>=2.0.0 in /usr/local/lib/python3.7/dist-packages (from google-auth<2.0dev,>=1.25.0->google-api-core[grpc]<2.0.0dev,>=1.14.0->cirq-google==0.15.0->cirq) (4.2.4)\n",
            "Requirement already satisfied: pyasn1-modules>=0.2.1 in /usr/local/lib/python3.7/dist-packages (from google-auth<2.0dev,>=1.25.0->google-api-core[grpc]<2.0.0dev,>=1.14.0->cirq-google==0.15.0->cirq) (0.2.8)\n",
            "Requirement already satisfied: pyparsing!=2.0.4,!=2.1.2,!=2.1.6,>=2.0.1 in /usr/local/lib/python3.7/dist-packages (from matplotlib~=3.0->cirq-core==0.15.0->cirq) (3.0.9)\n",
            "Requirement already satisfied: cycler>=0.10 in /usr/local/lib/python3.7/dist-packages (from matplotlib~=3.0->cirq-core==0.15.0->cirq) (0.11.0)\n",
            "Requirement already satisfied: kiwisolver>=1.0.1 in /usr/local/lib/python3.7/dist-packages (from matplotlib~=3.0->cirq-core==0.15.0->cirq) (1.4.3)\n",
            "Requirement already satisfied: pyasn1<0.5.0,>=0.4.6 in /usr/local/lib/python3.7/dist-packages (from pyasn1-modules>=0.2.1->google-auth<2.0dev,>=1.25.0->google-api-core[grpc]<2.0.0dev,>=1.14.0->cirq-google==0.15.0->cirq) (0.4.8)\n",
            "Requirement already satisfied: lark<0.12.0,>=0.11.1 in /usr/local/lib/python3.7/dist-packages (from pyquil~=3.0.0->cirq-rigetti==0.15.0->cirq) (0.11.3)\n",
            "Requirement already satisfied: retry<0.10.0,>=0.9.2 in /usr/local/lib/python3.7/dist-packages (from pyquil~=3.0.0->cirq-rigetti==0.15.0->cirq) (0.9.2)\n",
            "Requirement already satisfied: importlib-metadata<4.0.0,>=3.7.3 in /usr/local/lib/python3.7/dist-packages (from pyquil~=3.0.0->cirq-rigetti==0.15.0->cirq) (3.10.1)\n",
            "Requirement already satisfied: rpcq<4.0.0,>=3.6.0 in /usr/local/lib/python3.7/dist-packages (from pyquil~=3.0.0->cirq-rigetti==0.15.0->cirq) (3.10.0)\n",
            "Requirement already satisfied: zipp>=0.5 in /usr/local/lib/python3.7/dist-packages (from importlib-metadata<4.0.0,>=3.7.3->pyquil~=3.0.0->cirq-rigetti==0.15.0->cirq) (3.8.0)\n",
            "Requirement already satisfied: urllib3!=1.25.0,!=1.25.1,<1.26,>=1.21.1 in /usr/local/lib/python3.7/dist-packages (from requests~=2.18->cirq-aqt==0.15.0->cirq) (1.24.3)\n",
            "Requirement already satisfied: chardet<4,>=3.0.2 in /usr/local/lib/python3.7/dist-packages (from requests~=2.18->cirq-aqt==0.15.0->cirq) (3.0.4)\n",
            "Requirement already satisfied: decorator>=3.4.2 in /usr/local/lib/python3.7/dist-packages (from retry<0.10.0,>=0.9.2->pyquil~=3.0.0->cirq-rigetti==0.15.0->cirq) (4.4.2)\n",
            "Requirement already satisfied: py<2.0.0,>=1.4.26 in /usr/local/lib/python3.7/dist-packages (from retry<0.10.0,>=0.9.2->pyquil~=3.0.0->cirq-rigetti==0.15.0->cirq) (1.11.0)\n",
            "Requirement already satisfied: python-rapidjson in /usr/local/lib/python3.7/dist-packages (from rpcq<4.0.0,>=3.6.0->pyquil~=3.0.0->cirq-rigetti==0.15.0->cirq) (1.6)\n",
            "Requirement already satisfied: msgpack<1.0,>=0.6 in /usr/local/lib/python3.7/dist-packages (from rpcq<4.0.0,>=3.6.0->pyquil~=3.0.0->cirq-rigetti==0.15.0->cirq) (0.6.2)\n",
            "Requirement already satisfied: ruamel.yaml in /usr/local/lib/python3.7/dist-packages (from rpcq<4.0.0,>=3.6.0->pyquil~=3.0.0->cirq-rigetti==0.15.0->cirq) (0.17.21)\n",
            "Requirement already satisfied: pyzmq>=17 in /usr/local/lib/python3.7/dist-packages (from rpcq<4.0.0,>=3.6.0->pyquil~=3.0.0->cirq-rigetti==0.15.0->cirq) (23.1.0)\n",
            "Requirement already satisfied: ruamel.yaml.clib>=0.2.6 in /usr/local/lib/python3.7/dist-packages (from ruamel.yaml->rpcq<4.0.0,>=3.6.0->pyquil~=3.0.0->cirq-rigetti==0.15.0->cirq) (0.2.6)\n",
            "Requirement already satisfied: mpmath>=0.19 in /usr/local/lib/python3.7/dist-packages (from sympy->cirq-core==0.15.0->cirq) (1.2.1)\n"
          ]
        }
      ]
    },
    {
      "cell_type": "code",
      "source": [
        "import cirq_google\n",
        "print(cirq_google.Sycamore)"
      ],
      "metadata": {
        "id": "QT1_LsAD6B7i",
        "outputId": "be0d0401-4d56-4f20-adc4-b07cc8731034",
        "colab": {
          "base_uri": "https://localhost:8080/"
        }
      },
      "execution_count": 6,
      "outputs": [
        {
          "output_type": "stream",
          "name": "stdout",
          "text": [
            "                                             (0, 5)───(0, 6)\n",
            "                                             │        │\n",
            "                                             │        │\n",
            "                                    (1, 4)───(1, 5)───(1, 6)───(1, 7)\n",
            "                                    │        │        │        │\n",
            "                                    │        │        │        │\n",
            "                           (2, 3)───(2, 4)───(2, 5)───(2, 6)───(2, 7)───(2, 8)\n",
            "                           │        │        │        │        │        │\n",
            "                           │        │        │        │        │        │\n",
            "                  (3, 2)───(3, 3)───(3, 4)───(3, 5)───(3, 6)───(3, 7)───(3, 8)───(3, 9)\n",
            "                  │        │        │        │        │        │        │        │\n",
            "                  │        │        │        │        │        │        │        │\n",
            "         (4, 1)───(4, 2)───(4, 3)───(4, 4)───(4, 5)───(4, 6)───(4, 7)───(4, 8)───(4, 9)\n",
            "         │        │        │        │        │        │        │        │\n",
            "         │        │        │        │        │        │        │        │\n",
            "(5, 0)───(5, 1)───(5, 2)───(5, 3)───(5, 4)───(5, 5)───(5, 6)───(5, 7)───(5, 8)\n",
            "         │        │        │        │        │        │        │\n",
            "         │        │        │        │        │        │        │\n",
            "         (6, 1)───(6, 2)───(6, 3)───(6, 4)───(6, 5)───(6, 6)───(6, 7)\n",
            "                  │        │        │        │        │\n",
            "                  │        │        │        │        │\n",
            "                  (7, 2)───(7, 3)───(7, 4)───(7, 5)───(7, 6)\n",
            "                           │        │        │\n",
            "                           │        │        │\n",
            "                           (8, 3)───(8, 4)───(8, 5)\n",
            "                                    │\n",
            "                                    │\n",
            "                                    (9, 4)\n"
          ]
        }
      ]
    },
    {
      "cell_type": "code",
      "source": [
        "import cirq\n",
        "a = cirq.NamedQubit('s')\n",
        "b = cirq.NamedQubit('t')\n",
        "a, b, c = cirq.LineQubit.range(3)\n",
        "d = cirq.LineQubit(6)\n",
        "e = cirq.GridQubit(4, 5)\n",
        "print(a)\n",
        "print(b)\n",
        "print(c)\n",
        "print(d)\n",
        "print(e)"
      ],
      "metadata": {
        "colab": {
          "base_uri": "https://localhost:8080/"
        },
        "id": "rDRME5Y9wOC0",
        "outputId": "00e67651-b347-4724-e280-0ae9be6451ce"
      },
      "execution_count": 10,
      "outputs": [
        {
          "output_type": "stream",
          "name": "stdout",
          "text": [
            "q(0)\n",
            "q(1)\n",
            "q(2)\n",
            "q(6)\n",
            "q(4, 5)\n"
          ]
        }
      ]
    },
    {
      "cell_type": "code",
      "source": [
        "import cirq\n",
        "a= cirq.Circuit()\n",
        "b= cirq.LineQubit.range(4)\n",
        "a.append(cirq.H(b[0]))\n",
        "a.append(cirq.H(b[1]))\n",
        "a.append(cirq.H(b[2]))\n",
        "a.append(cirq.H(b[3]))\n",
        "\n",
        "print(a)"
      ],
      "metadata": {
        "colab": {
          "base_uri": "https://localhost:8080/"
        },
        "id": "eMrIOpBIRewR",
        "outputId": "ab2f9758-4cc9-4773-cdec-3c793b0060e5"
      },
      "execution_count": 29,
      "outputs": [
        {
          "output_type": "stream",
          "name": "stdout",
          "text": [
            "0: ───H───\n",
            "\n",
            "1: ───H───\n",
            "\n",
            "2: ───H───\n",
            "\n",
            "3: ───H───\n"
          ]
        }
      ]
    },
    {
      "cell_type": "code",
      "source": [
        "import cirq\n",
        "a = cirq.NamedQubit('a')\n",
        "b = cirq.NamedQubit('s')\n",
        "c = cirq.NamedQubit('c')\n",
        "\n",
        "print(cirq.H(b))\n",
        "print(cirq.CNOT(b, c))\n",
        "print(cirq.CNOT(a, b))\n",
        "print(cirq.H(a))\n",
        "print(cirq.measure(a,b))"
      ],
      "metadata": {
        "colab": {
          "base_uri": "https://localhost:8080/"
        },
        "id": "n9w-BMC1SEoa",
        "outputId": "c636df00-2f73-4d02-f315-4192ac07d9db"
      },
      "execution_count": 30,
      "outputs": [
        {
          "output_type": "stream",
          "name": "stdout",
          "text": [
            "H(s)\n",
            "CNOT(s, c)\n",
            "CNOT(a, s)\n",
            "H(a)\n",
            "cirq.MeasurementGate(2, cirq.MeasurementKey(name='a,s'), ())(a, s)\n"
          ]
        }
      ]
    },
    {
      "cell_type": "code",
      "source": [
        "import cirq\n",
        "cnot= cirq.CNOT\n",
        "pauli= cirq.Z\n",
        "sqrt1= cirq.X**0.5\n",
        "sqrt2= cirq.YPowGate(exponent=0.25)\n",
        "a, b= cirq.LineQubit.range(2)\n",
        "swap= cirq.SQRT_ISWAP(a, b)\n",
        "c= cnot(a, b)\n",
        "d= pauli(a)\n",
        "e= sqrt1(b)\n",
        "f= sqrt2(a)\n",
        "print(c)\n",
        "print(d)\n",
        "print(e)\n",
        "print(f)\n",
        "print(swap)\n"
      ],
      "metadata": {
        "id": "H0JHvYRLyfqi",
        "colab": {
          "base_uri": "https://localhost:8080/"
        },
        "outputId": "2ede1a98-b9bd-4193-e9cb-49ee7379ff62"
      },
      "execution_count": 15,
      "outputs": [
        {
          "output_type": "stream",
          "name": "stdout",
          "text": [
            "CNOT(q(0), q(1))\n",
            "Z(q(0))\n",
            "X**0.5(q(1))\n",
            "Y**0.25(q(0))\n",
            "ISWAP**0.5(q(0), q(1))\n"
          ]
        }
      ]
    },
    {
      "cell_type": "code",
      "source": [
        "import cirq\n",
        "a = cirq.GridQubit(0, 1)\n",
        "b = cirq.Circuit(\n",
        "    cirq.X(a)**0.5,  \n",
        "    cirq.measure(a, key='m')  \n",
        ")\n",
        "print(\"Circuit:\")\n",
        "print(b)\n",
        "\n",
        "s = cirq.Simulator()\n",
        "r = s.run(b, repetitions=15)\n",
        "print(\"Results:\")\n",
        "print(r)"
      ],
      "metadata": {
        "colab": {
          "base_uri": "https://localhost:8080/"
        },
        "id": "9DDQKWVURmUY",
        "outputId": "21620b3f-d65a-431a-ac2e-63848d09728b"
      },
      "execution_count": 27,
      "outputs": [
        {
          "output_type": "stream",
          "name": "stdout",
          "text": [
            "Circuit:\n",
            "(0, 1): ───X^0.5───M('m')───\n",
            "Results:\n",
            "m=011000111010111\n"
          ]
        }
      ]
    },
    {
      "cell_type": "code",
      "source": [
        "print(cirq.Circuit(cirq.SWAP(q, q + 1) for q in cirq.LineQubit.range(4)))"
      ],
      "metadata": {
        "colab": {
          "base_uri": "https://localhost:8080/"
        },
        "id": "EPLh9N-9TQB6",
        "outputId": "37dab342-bc2d-4305-8089-2effeee078d8"
      },
      "execution_count": 31,
      "outputs": [
        {
          "output_type": "stream",
          "name": "stdout",
          "text": [
            "0: ───×───────────────\n",
            "      │\n",
            "1: ───×───×───────────\n",
            "          │\n",
            "2: ───────×───×───────\n",
            "              │\n",
            "3: ───────────×───×───\n",
            "                  │\n",
            "4: ───────────────×───\n"
          ]
        }
      ]
    },
    {
      "cell_type": "code",
      "source": [
        "import cirq\n",
        "a= cirq.CZ(qubits[0], qubits[1])\n",
        "b= cirq.X(qubits[2])\n",
        "d= cirq.Moment(b,a)\n",
        "\n",
        "print(d)"
      ],
      "metadata": {
        "colab": {
          "base_uri": "https://localhost:8080/"
        },
        "id": "1dtL6socTeHH",
        "outputId": "84243a1f-ac60-45be-d57a-c951905aa44a"
      },
      "execution_count": 36,
      "outputs": [
        {
          "output_type": "stream",
          "name": "stdout",
          "text": [
            "  ╷ 0 1 2\n",
            "╶─┼───────\n",
            "0 │ @─@ X\n",
            "  │\n"
          ]
        }
      ]
    },
    {
      "cell_type": "markdown",
      "metadata": {
        "id": "shNBShuQTFuu"
      },
      "source": [
        "# Congratulations\n",
        "You've just run your first Cirq program. If you would like to learn more about quantum computing, check out our [education page](/education). The Full API reference for Cirq can be found [here](/reference/python/cirq). If you are looking for vendor specific information that can be found on our vendor sub-pages:\n",
        "\n",
        "\n",
        "  [Alpine Quantum Technologies](tutorials/aqt/getting_started.ipynb)\n",
        "  \n",
        "  [Pasqal](tutorials/pasqal/getting_started.ipynb)\n",
        "  \n",
        "  [IonQ](tutorials/ionq/getting_started.ipynb)\n",
        "  \n",
        "  [Azure](tutorials/azure-quantum/getting_started_honeywell.ipynb)\n",
        "  \n",
        "  [Rigetti](tutorials/rigetti/getting_started.ipynb)"
      ]
    }
  ],
  "metadata": {
    "colab": {
      "name": "Basics of Quantum Computing.ipynb",
      "provenance": [],
      "include_colab_link": true
    },
    "kernelspec": {
      "display_name": "Python 3",
      "name": "python3"
    }
  },
  "nbformat": 4,
  "nbformat_minor": 0
}